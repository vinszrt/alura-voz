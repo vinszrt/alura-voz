{
 "cells": [
  {
   "attachments": {},
   "cell_type": "markdown",
   "metadata": {},
   "source": [
    "# 01. Limpeza dos dados\n",
    "\n",
    "Primeiramente, vamos importar os dados, lendo o arquivo JSON disponibilizado via API.\n",
    "\n",
    "Os dados foram fornecidos em um arquivo no formato JSON. Podemos importar diretamente em um DataFrame Pandas, usando o método read_json(), ou podemos usar o método json.load() para importar como um dicionário.\n",
    "\n",
    "Optei por começar pelo método json.load() para uma breve exploração em como os dados foram fornecidos pela API."
   ]
  },
  {
   "cell_type": "code",
   "execution_count": 18,
   "metadata": {},
   "outputs": [],
   "source": [
    "import json\n",
    "\n",
    "dados = json.load(open('../Dados/Telco-Customer-Churn.json', 'r'))\n"
   ]
  },
  {
   "cell_type": "code",
   "execution_count": 19,
   "metadata": {},
   "outputs": [
    {
     "data": {
      "text/plain": [
       "7267"
      ]
     },
     "execution_count": 19,
     "metadata": {},
     "output_type": "execute_result"
    }
   ],
   "source": [
    "len(dados)"
   ]
  },
  {
   "cell_type": "code",
   "execution_count": 57,
   "metadata": {},
   "outputs": [],
   "source": [
    "def dict_types(x):\n",
    "    return {k: str(type(v)) if type(v) is not dict else dict_types(v) for k, v in x.items()}"
   ]
  },
  {
   "cell_type": "code",
   "execution_count": 58,
   "metadata": {},
   "outputs": [
    {
     "name": "stdout",
     "output_type": "stream",
     "text": [
      "{\n",
      "    \"customerID\": \"<class 'str'>\",\n",
      "    \"Churn\": \"<class 'str'>\",\n",
      "    \"customer\": {\n",
      "        \"gender\": \"<class 'str'>\",\n",
      "        \"SeniorCitizen\": \"<class 'int'>\",\n",
      "        \"Partner\": \"<class 'str'>\",\n",
      "        \"Dependents\": \"<class 'str'>\",\n",
      "        \"tenure\": \"<class 'int'>\"\n",
      "    },\n",
      "    \"phone\": {\n",
      "        \"PhoneService\": \"<class 'str'>\",\n",
      "        \"MultipleLines\": \"<class 'str'>\"\n",
      "    },\n",
      "    \"internet\": {\n",
      "        \"InternetService\": \"<class 'str'>\",\n",
      "        \"OnlineSecurity\": \"<class 'str'>\",\n",
      "        \"OnlineBackup\": \"<class 'str'>\",\n",
      "        \"DeviceProtection\": \"<class 'str'>\",\n",
      "        \"TechSupport\": \"<class 'str'>\",\n",
      "        \"StreamingTV\": \"<class 'str'>\",\n",
      "        \"StreamingMovies\": \"<class 'str'>\"\n",
      "    },\n",
      "    \"account\": {\n",
      "        \"Contract\": \"<class 'str'>\",\n",
      "        \"PaperlessBilling\": \"<class 'str'>\",\n",
      "        \"PaymentMethod\": \"<class 'str'>\",\n",
      "        \"Charges\": {\n",
      "            \"Monthly\": \"<class 'float'>\",\n",
      "            \"Total\": \"<class 'str'>\"\n",
      "        }\n",
      "    }\n",
      "}\n"
     ]
    }
   ],
   "source": [
    "print(json.dumps(dict_types(dados[0]), indent=4))"
   ]
  },
  {
   "attachments": {},
   "cell_type": "markdown",
   "metadata": {},
   "source": [
    "Implementei a função **dict_types()** para obter um dicionário que relaciona a Chave e seu tipo de dados e verifiquei os tipos para o primeiro elemento da base de dados.\n",
    "\n",
    "Primeiramente, foi possível observar que há dicionários aninhados *(por isso foi necessário implementar **dict_types() com recursão**)*. Também foi possível observar que todos os campos informados no dicionário de dados estão presentes no primeiro registro da base de dados."
   ]
  }
 ],
 "metadata": {
  "kernelspec": {
   "display_name": "Python 3",
   "language": "python",
   "name": "python3"
  },
  "language_info": {
   "codemirror_mode": {
    "name": "ipython",
    "version": 3
   },
   "file_extension": ".py",
   "mimetype": "text/x-python",
   "name": "python",
   "nbconvert_exporter": "python",
   "pygments_lexer": "ipython3",
   "version": "3.10.6"
  },
  "orig_nbformat": 4,
  "vscode": {
   "interpreter": {
    "hash": "916dbcbb3f70747c44a77c7bcd40155683ae19c65e1c03b4aa3499c5328201f1"
   }
  }
 },
 "nbformat": 4,
 "nbformat_minor": 2
}
